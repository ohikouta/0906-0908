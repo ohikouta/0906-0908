{
  "nbformat": 4,
  "nbformat_minor": 0,
  "metadata": {
    "colab": {
      "provenance": [],
      "authorship_tag": "ABX9TyNlnNb2EMsQUfilo87nTHZl",
      "include_colab_link": true
    },
    "kernelspec": {
      "name": "python3",
      "display_name": "Python 3"
    },
    "language_info": {
      "name": "python"
    }
  },
  "cells": [
    {
      "cell_type": "markdown",
      "metadata": {
        "id": "view-in-github",
        "colab_type": "text"
      },
      "source": [
        "<a href=\"https://colab.research.google.com/github/ohikouta/0906-0908/blob/main/more_1.ipynb\" target=\"_parent\"><img src=\"https://colab.research.google.com/assets/colab-badge.svg\" alt=\"Open In Colab\"/></a>"
      ]
    },
    {
      "cell_type": "markdown",
      "source": [
        "このファイルは適宜更新します。こんなの簡単だという方はぜひチャットください。"
      ],
      "metadata": {
        "id": "TVI0Cs42up7_"
      }
    },
    {
      "cell_type": "markdown",
      "source": [
        "## ファイル名\n",
        "わかりやすい名前をつけるといいです。これからたくさんのファイルを使用するとごちゃごちゃしてくるので、適宜フォルダを使いながら整理するといいと思います。\n",
        "## google colaboratory\n",
        "Pythonコードの実行だけでなくメモとしてテキストを入力することもできます。勉強する際には自分がどんなコードを書いたのか、テキストセルにメモしておくと、復習時に便利だと思います。"
      ],
      "metadata": {
        "id": "1OnTLEKUhOg6"
      }
    },
    {
      "cell_type": "markdown",
      "source": [],
      "metadata": {
        "id": "Od4qGrQnfqsk"
      }
    },
    {
      "cell_type": "markdown",
      "source": [
        "## エラーが出た場合\n",
        "ググって解決する習慣をつけるといいです。大体のエラーの解決方法はインターネット上を探せば見つかると思います。またそれらの記事を読むことが一番わかりやすいと思います。"
      ],
      "metadata": {
        "id": "5Kk56lAGof_H"
      }
    },
    {
      "cell_type": "markdown",
      "source": [
        "## Pythonを使って生活を便利にする\n",
        "理解したプログラムの組み方を使ってどんどん身近な作業に使っていくといいと思います。\n",
        "### 例\n",
        "毎月の収支を計算する関数を作成して、月に一回計算します。表に収支データを作成して自分のお金の使い方を可視化してみます。収入はともかく支出を毎回ファイルに書き込むのは面倒なので、携帯に簡単なメモを残しておいて月末にそれらを全てプログラムに計算させて支出の合計を計算させると使えそう？などなど"
      ],
      "metadata": {
        "id": "TRhubERQlySv"
      }
    },
    {
      "cell_type": "markdown",
      "source": [
        "### 課題が終わった人へ\n",
        "#####全く知らない内容だと思うので、自分にはまだ早いと思う人はスルーしてください。\n",
        "以下のセルが何をしているか、調べて理解してみてください。（Python勉強をこれから進める場合はわかるまでググりまくることが大切になると思います。）理解できたらこの機能がどんな時に役立ちそうか考えてみるといいと思います。"
      ],
      "metadata": {
        "id": "55DePvwOjApQ"
      }
    },
    {
      "cell_type": "code",
      "execution_count": null,
      "metadata": {
        "colab": {
          "base_uri": "https://localhost:8080/"
        },
        "id": "0OXr-QO_hJTz",
        "outputId": "11fbbbce-ee6c-4ee1-aea6-fec475d28a82"
      },
      "outputs": [
        {
          "output_type": "stream",
          "name": "stdout",
          "text": [
            "千葉商科大学\n",
            "私は千葉商科大学に通っています。\n"
          ]
        }
      ],
      "source": [
        "print(f\"私は{input()}に通っています。\")"
      ]
    },
    {
      "cell_type": "code",
      "source": [
        "# 条件分岐\n",
        "# 関数の定義\n",
        "def gpa_check(gpa):\n",
        "    if gpa >= 3.5:\n",
        "        print(\"素晴らしい！\")\n",
        "    elif 3.0 <= gpa < 3.5:\n",
        "        print(\"いいね！\")\n",
        "    elif 2.5 <= gpa < 3.0:\n",
        "        print(\"もっと頑張ろう！\")\n",
        "    else:\n",
        "        print(\"やばいぞ！\")\n",
        "\n",
        "# 関数の呼び出し\n",
        "gpa_check(float(input()))"
      ],
      "metadata": {
        "colab": {
          "base_uri": "https://localhost:8080/"
        },
        "id": "fAvoW3GXi6vK",
        "outputId": "22ec3934-70ed-4ef9-a35e-9048245f8011"
      },
      "execution_count": null,
      "outputs": [
        {
          "output_type": "stream",
          "name": "stdout",
          "text": [
            "3.5\n",
            "素晴らしい！\n"
          ]
        }
      ]
    },
    {
      "cell_type": "code",
      "source": [
        "# クラスという概念について：たくさんの機能を1つにまとめたものです。\n",
        "\n",
        "class Zemi:\n",
        "  \"\"\" ゼミ内での活動をPythonで表現してみます。 \"\"\"\n",
        "\n",
        "  def __init__(self, name):\n",
        "    self.name = name\n",
        "\n",
        "  def intro_name(self):\n",
        "    print(f\"私の名前は{self.name}です。\")\n",
        "\n",
        "  def check_study(self):\n",
        "    study_list = [\"商\", \"経済\", \"経営\"]\n",
        "    study = int(input((\"商学科の方は0, 経済学科の方は1, 経営学科の方は2を入力してください。\")))\n",
        "    print(f\"{self.name}さんは、{study_list[study]}学科に所属しています。\")\n",
        "\n",
        "\n",
        "# クラスの機能を使うためのコード\n",
        "student_1 = Zemi(\"takahashi\")\n",
        "student_1.intro_name()\n",
        "student_1.check_study()"
      ],
      "metadata": {
        "colab": {
          "base_uri": "https://localhost:8080/"
        },
        "id": "p540ddrKVQgO",
        "outputId": "a722e9ad-2ea0-4a5c-9ec0-d11b4d52b738"
      },
      "execution_count": null,
      "outputs": [
        {
          "output_type": "stream",
          "name": "stdout",
          "text": [
            "私の名前はtakahashiです。\n",
            "商学科の方は0, 経済学科の方は1, 経営学科の方は2を入力してください。2\n",
            "takahashiさんは、経営学科に所属しています。\n"
          ]
        }
      ]
    },
    {
      "cell_type": "markdown",
      "source": [
        "## ゼミでPythonは結構使います\n",
        "ゼミの中では自分が興味があることや、調べたいことについて研究しますが、そこでPythonを使うと色々なことができるようになります。自分でやるには手に負えない量の計算や、大量のデータを用いて何らかの事象を説明したい時にはプログラムを組んでコンピュータに処理させることが効率的です。\n",
        "\n",
        "先輩方が研究したものもPythonを用いた研究が多くありますが、そこでどんなコードが書かれているのか理解できると、自分がいざ研究をするときにより発展的な内容に取り組むことができると思います。"
      ],
      "metadata": {
        "id": "jEEUYX_lO48r"
      }
    },
    {
      "cell_type": "code",
      "source": [],
      "metadata": {
        "id": "olmGQZohVG4L"
      },
      "execution_count": null,
      "outputs": []
    }
  ]
}